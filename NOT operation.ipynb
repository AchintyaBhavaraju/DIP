{
 "cells": [
  {
   "cell_type": "code",
   "execution_count": 1,
   "id": "69ba805c",
   "metadata": {},
   "outputs": [],
   "source": [
    "import cv2\n",
    "import numpy as np\n",
    "    \n",
    "img1 = cv2.imread(r\"C:\\Users\\achin\\Downloads\\AND1.jpg\") \n",
    "img2 = cv2.imread(r\"C:\\Users\\achin\\Downloads\\AND2.jpg\")\n",
    "\n",
    "dest_not1 = cv2.bitwise_not(img1, mask = None)\n",
    "dest_not2 = cv2.bitwise_not(img2, mask = None)\n",
    "\n",
    "cv2.imshow('Bitwise NOT on image 1', dest_not1)\n",
    "cv2.imshow('Bitwise NOT on image 2', dest_not2)\n",
    "   \n",
    "if cv2.waitKey(0) & 0xff == 27:\n",
    "    cv2.destroyAllWindows()"
   ]
  },
  {
   "cell_type": "code",
   "execution_count": null,
   "id": "33875dcc",
   "metadata": {},
   "outputs": [],
   "source": []
  }
 ],
 "metadata": {
  "kernelspec": {
   "display_name": "Python 3 (ipykernel)",
   "language": "python",
   "name": "python3"
  },
  "language_info": {
   "codemirror_mode": {
    "name": "ipython",
    "version": 3
   },
   "file_extension": ".py",
   "mimetype": "text/x-python",
   "name": "python",
   "nbconvert_exporter": "python",
   "pygments_lexer": "ipython3",
   "version": "3.9.7"
  }
 },
 "nbformat": 4,
 "nbformat_minor": 5
}
