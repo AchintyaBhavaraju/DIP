{
 "cells": [
  {
   "cell_type": "code",
   "execution_count": 4,
   "id": "ec1df180",
   "metadata": {},
   "outputs": [],
   "source": [
    "import cv2\n",
    "import numpy as np\n",
    "   \n",
    "\n",
    "image1 = cv2.imread(r\"C:\\\\Users\\\\achin\\\\Downloads\\\\wall1.jpg\")\n",
    "image2 = cv2.imread(r\"C:\\\\Users\\\\achin\\\\Downloads\\\\wall2.jpg\")\n",
    "\n",
    "weightedSum = cv2.addWeighted(image1, 0.5, image2, 0.4, 0)\n",
    "\n",
    "cv2.imshow('Weighted Image', weightedSum)\n",
    " \n",
    "cv2.waitKey(0) \n",
    "cv2.destroyAllWindows()\n"
   ]
  },
  {
   "cell_type": "code",
   "execution_count": 5,
   "id": "fae64f82",
   "metadata": {},
   "outputs": [],
   "source": [
    "import cv2\n",
    "import numpy as np\n",
    "   \n",
    "\n",
    "image1 = cv2.imread(r\"C:\\\\Users\\\\achin\\\\Downloads\\\\wall1.jpg\")\n",
    "image2 = cv2.imread(r\"C:\\\\Users\\\\achin\\\\Downloads\\\\wall2.jpg\")\n",
    "\n",
    "sub=cv2.subtract(image1,image2)\n",
    "\n",
    "cv2.imshow(\"subimage\", sub)\n",
    " \n",
    "cv2.waitKey(0) \n",
    "cv2.destroyAllWindows()\n"
   ]
  },
  {
   "cell_type": "code",
   "execution_count": 6,
   "id": "72a88e92",
   "metadata": {},
   "outputs": [],
   "source": [
    "import cv2\n",
    "import numpy as np\n",
    "   \n",
    "\n",
    "image1 = cv2.imread(r\"C:\\\\Users\\\\achin\\\\Downloads\\\\wall1.jpg\")\n",
    "image2 = cv2.imread(r\"C:\\\\Users\\\\achin\\\\Downloads\\\\wall2.jpg\")\n",
    "\n",
    "result_image = cv2.multiply(image1, image2)\n",
    "\n",
    "cv2.imshow(\"multi\",result_image)\n",
    " \n",
    "cv2.waitKey(0) \n",
    "cv2.destroyAllWindows()\n",
    "\n"
   ]
  },
  {
   "cell_type": "code",
   "execution_count": 7,
   "id": "8f1eac1b",
   "metadata": {},
   "outputs": [],
   "source": [
    "import cv2\n",
    "import numpy as np\n",
    "   \n",
    "\n",
    "image1 = cv2.imread(r\"C:\\\\Users\\\\achin\\\\Downloads\\\\wall1.jpg\")\n",
    "image2 = cv2.imread(r\"C:\\\\Users\\\\achin\\\\Downloads\\\\wall2.jpg\")\n",
    "\n",
    "result_image = cv2.divide(image1, image2)\n",
    "\n",
    "cv2.imshow(\"div\",result_image)\n",
    " \n",
    "cv2.waitKey(0) \n",
    "cv2.destroyAllWindows()\n",
    "\n"
   ]
  },
  {
   "cell_type": "code",
   "execution_count": null,
   "id": "8264ae4e",
   "metadata": {},
   "outputs": [],
   "source": []
  }
 ],
 "metadata": {
  "kernelspec": {
   "display_name": "Python 3 (ipykernel)",
   "language": "python",
   "name": "python3"
  },
  "language_info": {
   "codemirror_mode": {
    "name": "ipython",
    "version": 3
   },
   "file_extension": ".py",
   "mimetype": "text/x-python",
   "name": "python",
   "nbconvert_exporter": "python",
   "pygments_lexer": "ipython3",
   "version": "3.9.7"
  }
 },
 "nbformat": 4,
 "nbformat_minor": 5
}
