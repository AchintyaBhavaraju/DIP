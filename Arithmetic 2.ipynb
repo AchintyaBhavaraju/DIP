{
 "cells": [
  {
   "cell_type": "code",
   "execution_count": null,
   "id": "72a37b9f",
   "metadata": {},
   "outputs": [],
   "source": [
    "import cv2\n",
    "import numpy as np\n",
    "   \n",
    "\n",
    "image1 = cv2.imread(r'C:\\Users\\achin\\Downloads\\drake.jpg')\n",
    "image2 = cv2.imread(r'C:\\Users\\achin\\Downloads\\rihanna.jpg')\n",
    "\n",
    "weightedSum = cv2.addWeighted(image1, 0.5, image2, 0.4, 0)\n",
    "\n",
    "cv2.imshow('Weighted Image', weightedSum)\n",
    " \n",
    "cv2.waitKey(0) \n",
    "cv2.destroyAllWindows()\n"
   ]
  },
  {
   "cell_type": "code",
   "execution_count": null,
   "id": "665ac426",
   "metadata": {},
   "outputs": [],
   "source": [
    "import cv2\n",
    "import numpy as np\n",
    "   \n",
    "\n",
    "image1 = cv2.imread(r'C:\\Users\\achin\\Downloads\\drake.jpg')\n",
    "image2 = cv2.imread(r'C:\\Users\\achin\\Downloads\\rihanna.jpg')\n",
    "\n",
    "sub=cv2.subtract(image1,image2)\n",
    "\n",
    "cv2.imshow(\"subimage\", sub)\n",
    " \n",
    "cv2.waitKey(0) \n",
    "cv2.destroyAllWindows()\n"
   ]
  },
  {
   "cell_type": "code",
   "execution_count": null,
   "id": "a496195c",
   "metadata": {},
   "outputs": [],
   "source": [
    "import cv2\n",
    "import numpy as np\n",
    "   \n",
    "\n",
    "image1 = cv2.imread(r'C:\\Users\\achin\\Downloads\\drake.jpg')\n",
    "image2 = cv2.imread(r'C:\\Users\\achin\\Downloads\\rihanna.jpg')\n",
    "\n",
    "result_image = cv2.multiply(image1, image2)\n",
    "\n",
    "cv2.imshow(\"multi\",result_image)\n",
    " \n",
    "cv2.waitKey(0) \n",
    "cv2.destroyAllWindows()\n",
    "\n"
   ]
  },
  {
   "cell_type": "code",
   "execution_count": null,
   "id": "856472d7",
   "metadata": {},
   "outputs": [],
   "source": []
  }
 ],
 "metadata": {
  "kernelspec": {
   "display_name": "Python 3 (ipykernel)",
   "language": "python",
   "name": "python3"
  },
  "language_info": {
   "codemirror_mode": {
    "name": "ipython",
    "version": 3
   },
   "file_extension": ".py",
   "mimetype": "text/x-python",
   "name": "python",
   "nbconvert_exporter": "python",
   "pygments_lexer": "ipython3",
   "version": "3.9.7"
  }
 },
 "nbformat": 4,
 "nbformat_minor": 5
}
