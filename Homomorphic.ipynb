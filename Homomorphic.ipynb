{
 "cells": [
  {
   "cell_type": "code",
   "execution_count": 10,
   "id": "03009a9b",
   "metadata": {},
   "outputs": [],
   "source": [
    "import cv2\n",
    "import numpy as np\n",
    "import matplotlib.pyplot as plt\n",
    "\n",
    "img = cv2.imread(r\"C:\\Users\\achin\\Downloads\\Gauss1.jpg\")\n",
    "img = np.float32(img)\n",
    "img = img/255\n",
    "\n",
    "rows,cols,dim=img.shape\n",
    "\n",
    "rh, rl, cutoff = 2.5,0.5,32\n",
    "\n",
    "imgYCrCb = cv2.cvtColor(img, cv2.COLOR_BGR2YCrCb)\n",
    "y,cr,cb = cv2.split(imgYCrCb)\n",
    "\n",
    "y_log = np.log(y+0.01)\n",
    "\n",
    "y_fft = np.fft.fft2(y_log)\n",
    "\n",
    "y_fft_shift = np.fft.fftshift(y_fft)\n",
    "\n",
    "\n",
    "DX = cols/cutoff\n",
    "G = np.ones((rows,cols))\n",
    "for i in range(rows):\n",
    "    for j in range(cols):\n",
    "        G[i][j]=((rh-rl)*(1-np.exp(-((i-rows/2)**2+(j-cols/2)**2)/(2*DX**2))))+rl\n",
    "\n",
    "result_filter = G * y_fft_shift\n",
    "\n",
    "result_interm = np.real(np.fft.ifft2(np.fft.ifftshift(result_filter)))\n",
    "\n",
    "result = np.exp(result_interm)\n",
    "\n",
    "\n",
    "cv2.imshow(\"Original image\",img)\n",
    "cv2.waitKey(0)\n",
    "cv2.destroyAllWindows()   \n",
    "\n",
    "\n",
    "cv2.imshow(\"Homomorphic filtering\",result)\n",
    "cv2.waitKey(0)\n",
    "cv2.destroyAllWindows()"
   ]
  },
  {
   "cell_type": "code",
   "execution_count": null,
   "id": "57a74c31",
   "metadata": {},
   "outputs": [],
   "source": []
  }
 ],
 "metadata": {
  "kernelspec": {
   "display_name": "Python 3 (ipykernel)",
   "language": "python",
   "name": "python3"
  },
  "language_info": {
   "codemirror_mode": {
    "name": "ipython",
    "version": 3
   },
   "file_extension": ".py",
   "mimetype": "text/x-python",
   "name": "python",
   "nbconvert_exporter": "python",
   "pygments_lexer": "ipython3",
   "version": "3.9.7"
  }
 },
 "nbformat": 4,
 "nbformat_minor": 5
}
