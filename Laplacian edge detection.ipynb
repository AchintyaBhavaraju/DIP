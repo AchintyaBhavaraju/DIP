{
 "cells": [
  {
   "cell_type": "code",
   "execution_count": null,
   "id": "772c5cde",
   "metadata": {},
   "outputs": [],
   "source": [
    "import sys\n",
    "import cv2 as cv\n",
    "def main(argv):\n",
    "    \n",
    "    ddepth = cv.CV_16S\n",
    "    kernel_size = 3\n",
    "    window_name = \"Laplace Demo\"\n",
    "   \n",
    "    imageName = argv[0] if len(argv) > 0 else 'dip lab 5.jpg'\n",
    "    src = cv.imread(r\"C:\\Users\\achin\\Downloads\\helloworld.jpg\", cv.IMREAD_COLOR) # Load an image\n",
    "    \n",
    "    if src is None:\n",
    "        print ('Error opening image')\n",
    "        print ('Program Arguments: [image_name -- default lena.jpg]')\n",
    "        return -1\n",
    "    \n",
    "    src = cv.GaussianBlur(src, (3, 3), 0)\n",
    "    \n",
    "    src_gray = cv.cvtColor(src, cv.COLOR_BGR2GRAY)\n",
    "    \n",
    "    cv.namedWindow(window_name, cv.WINDOW_AUTOSIZE)\n",
    "    \n",
    "    dst = cv.Laplacian(src_gray, ddepth, ksize=kernel_size)\n",
    "    \n",
    "    abs_dst = cv.convertScaleAbs(dst)\n",
    "    \n",
    "    cv.imshow(window_name, abs_dst)\n",
    "    cv.waitKey(0)\n",
    "   \n",
    "    return 0\n",
    "if __name__ == \"__main__\":\n",
    "    main(sys.argv[1:])\n"
   ]
  },
  {
   "cell_type": "code",
   "execution_count": null,
   "id": "9cc56344",
   "metadata": {},
   "outputs": [],
   "source": []
  }
 ],
 "metadata": {
  "kernelspec": {
   "display_name": "Python 3 (ipykernel)",
   "language": "python",
   "name": "python3"
  },
  "language_info": {
   "codemirror_mode": {
    "name": "ipython",
    "version": 3
   },
   "file_extension": ".py",
   "mimetype": "text/x-python",
   "name": "python",
   "nbconvert_exporter": "python",
   "pygments_lexer": "ipython3",
   "version": "3.9.7"
  }
 },
 "nbformat": 4,
 "nbformat_minor": 5
}
