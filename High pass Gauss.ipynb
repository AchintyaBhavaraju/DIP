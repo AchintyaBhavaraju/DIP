{
 "cells": [
  {
   "cell_type": "code",
   "execution_count": 10,
   "id": "1d9416ab",
   "metadata": {},
   "outputs": [],
   "source": [
    "import cv2\n",
    " \n",
    "img = cv2.imread(r\"C:\\Users\\achin\\Downloads\\Gauss1.jpg\")\n",
    "img = cv2.resize(img, (680, 520),\n",
    "                 interpolation=cv2.INTER_CUBIC)\n",
    " \n",
    "hpf = img - cv2.GaussianBlur(img, (21, 21), 3)+127\n",
    " \n",
    "cv2.imshow(\"Original\", img)\n",
    "cv2.imshow(\"High Passed Filter\", hpf)\n",
    " \n",
    "cv2.waitKey(0)\n",
    "cv2.destroyAllWindows()"
   ]
  },
  {
   "cell_type": "code",
   "execution_count": null,
   "id": "e86fc3d3",
   "metadata": {},
   "outputs": [],
   "source": []
  }
 ],
 "metadata": {
  "kernelspec": {
   "display_name": "Python 3 (ipykernel)",
   "language": "python",
   "name": "python3"
  },
  "language_info": {
   "codemirror_mode": {
    "name": "ipython",
    "version": 3
   },
   "file_extension": ".py",
   "mimetype": "text/x-python",
   "name": "python",
   "nbconvert_exporter": "python",
   "pygments_lexer": "ipython3",
   "version": "3.9.7"
  }
 },
 "nbformat": 4,
 "nbformat_minor": 5
}
